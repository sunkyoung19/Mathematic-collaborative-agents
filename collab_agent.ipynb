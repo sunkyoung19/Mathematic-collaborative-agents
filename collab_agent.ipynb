{
  "nbformat": 4,
  "nbformat_minor": 0,
  "metadata": {
    "colab": {
      "provenance": [],
      "authorship_tag": "ABX9TyP8TifIy6GSPNvu9HOUQE2p",
      "include_colab_link": true
    },
    "kernelspec": {
      "name": "python3",
      "display_name": "Python 3"
    },
    "language_info": {
      "name": "python"
    }
  },
  "cells": [
    {
      "cell_type": "markdown",
      "metadata": {
        "id": "view-in-github",
        "colab_type": "text"
      },
      "source": [
        "<a href=\"https://colab.research.google.com/github/sunkyoung19/Mathematic-collaborative-agents/blob/main/collab_agent.ipynb\" target=\"_parent\"><img src=\"https://colab.research.google.com/assets/colab-badge.svg\" alt=\"Open In Colab\"/></a>"
      ]
    },
    {
      "cell_type": "code",
      "execution_count": null,
      "metadata": {
        "id": "MMlrQvn2Tv8u",
        "colab": {
          "base_uri": "https://localhost:8080/"
        },
        "outputId": "d31b2086-b53c-4e70-f9e2-4e2f0af95762"
      },
      "outputs": [
        {
          "output_type": "stream",
          "name": "stdout",
          "text": [
            "/content/drive/MyDrive/agent\n"
          ]
        }
      ],
      "source": [
        "cd \"/content/drive/MyDrive/agent\""
      ]
    },
    {
      "cell_type": "code",
      "source": [
        "!git clone https://github.com/pull-ups/socialreasoning.git"
      ],
      "metadata": {
        "colab": {
          "base_uri": "https://localhost:8080/"
        },
        "id": "wYdZASemUjAJ",
        "outputId": "6996a171-792e-42bb-863f-70826c4d2a8e"
      },
      "execution_count": null,
      "outputs": [
        {
          "output_type": "stream",
          "name": "stdout",
          "text": [
            "fatal: destination path 'socialreasoning' already exists and is not an empty directory.\n"
          ]
        }
      ]
    },
    {
      "cell_type": "code",
      "source": [
        "!cd \"/content/drive/MyDrive/agent/socialreasoning/result_mmlu\"\n",
        "\n",
        "#/content/drive/MyDrive/agent/socialreasoning/implementation_mmlu.py"
      ],
      "metadata": {
        "id": "rypf1vjmU5d7"
      },
      "execution_count": null,
      "outputs": []
    },
    {
      "cell_type": "code",
      "source": [
        "#!pip install -U datasets huggingface_hub fsspec\n",
        "\n",
        "%run /content/drive/MyDrive/agent/socialreasoning/implementation_math.py"
      ],
      "metadata": {
        "colab": {
          "base_uri": "https://localhost:8080/",
          "height": 436
        },
        "id": "dKzQDLawXyps",
        "outputId": "87542b07-d4f8-4074-fd31-baa2e1366f95"
      },
      "execution_count": null,
      "outputs": [
        {
          "output_type": "error",
          "ename": "NameError",
          "evalue": "name 'conversation_history' is not defined",
          "traceback": [
            "\u001b[0;31m---------------------------------------------------------------------------\u001b[0m",
            "\u001b[0;31mNameError\u001b[0m                                 Traceback (most recent call last)",
            "\u001b[0;32m/content/drive/MyDrive/agent/socialreasoning/implementation_math.py\u001b[0m in \u001b[0;36m<module>\u001b[0;34m\u001b[0m\n\u001b[1;32m    194\u001b[0m         \u001b[0mproblem_str\u001b[0m \u001b[0;34m=\u001b[0m \u001b[0;34mf\"I'm trying to solve this problem: {problem}\"\u001b[0m\u001b[0;34m\u001b[0m\u001b[0;34m\u001b[0m\u001b[0m\n\u001b[1;32m    195\u001b[0m \u001b[0;34m\u001b[0m\u001b[0m\n\u001b[0;32m--> 196\u001b[0;31m         \u001b[0mfinal_answer\u001b[0m\u001b[0;34m,\u001b[0m \u001b[0mis_agreed\u001b[0m\u001b[0;34m,\u001b[0m \u001b[0mconversation_log\u001b[0m \u001b[0;34m=\u001b[0m \u001b[0msolve\u001b[0m\u001b[0;34m(\u001b[0m\u001b[0mproblem_str\u001b[0m\u001b[0;34m,\u001b[0m \u001b[0mcategory\u001b[0m\u001b[0;34m)\u001b[0m\u001b[0;34m\u001b[0m\u001b[0;34m\u001b[0m\u001b[0m\n\u001b[0m\u001b[1;32m    197\u001b[0m         \u001b[0;32mtry\u001b[0m\u001b[0;34m:\u001b[0m\u001b[0;34m\u001b[0m\u001b[0;34m\u001b[0m\u001b[0m\n\u001b[1;32m    198\u001b[0m             \u001b[0mis_correct\u001b[0m\u001b[0;34m=\u001b[0m\u001b[0mint\u001b[0m\u001b[0;34m(\u001b[0m\u001b[0mfinal_answer\u001b[0m\u001b[0;34m)\u001b[0m \u001b[0;34m==\u001b[0m \u001b[0mint\u001b[0m\u001b[0;34m(\u001b[0m\u001b[0manswer_index\u001b[0m\u001b[0;34m)\u001b[0m\u001b[0;34m\u001b[0m\u001b[0;34m\u001b[0m\u001b[0m\n",
            "\u001b[0;32m/content/drive/MyDrive/agent/socialreasoning/implementation_math.py\u001b[0m in \u001b[0;36msolve\u001b[0;34m(problem, category)\u001b[0m\n\u001b[1;32m    151\u001b[0m \u001b[0;34m\u001b[0m\u001b[0m\n\u001b[1;32m    152\u001b[0m \u001b[0;32mdef\u001b[0m \u001b[0msolve\u001b[0m\u001b[0;34m(\u001b[0m\u001b[0mproblem\u001b[0m\u001b[0;34m,\u001b[0m \u001b[0mcategory\u001b[0m\u001b[0;34m)\u001b[0m\u001b[0;34m:\u001b[0m\u001b[0;34m\u001b[0m\u001b[0;34m\u001b[0m\u001b[0m\n\u001b[0;32m--> 153\u001b[0;31m     final_answer, conversation_log = run_coral_collaboration(\n\u001b[0m\u001b[1;32m    154\u001b[0m         \u001b[0mproblem\u001b[0m\u001b[0;34m=\u001b[0m\u001b[0mproblem\u001b[0m\u001b[0;34m,\u001b[0m\u001b[0;34m\u001b[0m\u001b[0;34m\u001b[0m\u001b[0m\n\u001b[1;32m    155\u001b[0m         \u001b[0mtask_name\u001b[0m\u001b[0;34m=\u001b[0m\u001b[0mcategory\u001b[0m\u001b[0;34m,\u001b[0m\u001b[0;34m\u001b[0m\u001b[0;34m\u001b[0m\u001b[0m\n",
            "\u001b[0;32m/content/drive/MyDrive/agent/socialreasoning/implementation_math.py\u001b[0m in \u001b[0;36mrun_coral_collaboration\u001b[0;34m(problem, task_name, task_specific_instruction, llm_model_a, llm_model_b)\u001b[0m\n\u001b[1;32m    124\u001b[0m     \u001b[0;32mfor\u001b[0m \u001b[0mturn\u001b[0m \u001b[0;32min\u001b[0m \u001b[0mrange\u001b[0m\u001b[0;34m(\u001b[0m\u001b[0mmax_turns\u001b[0m\u001b[0;34m)\u001b[0m\u001b[0;34m:\u001b[0m\u001b[0;34m\u001b[0m\u001b[0;34m\u001b[0m\u001b[0m\n\u001b[1;32m    125\u001b[0m         \u001b[0;31m# Agent B의 턴\u001b[0m\u001b[0;34m\u001b[0m\u001b[0;34m\u001b[0m\u001b[0m\n\u001b[0;32m--> 126\u001b[0;31m         \u001b[0mresponse_b\u001b[0m \u001b[0;34m=\u001b[0m \u001b[0magent_b\u001b[0m\u001b[0;34m.\u001b[0m\u001b[0mget_llm_response\u001b[0m\u001b[0;34m(\u001b[0m\u001b[0mconversation_history\u001b[0m\u001b[0;34m,\u001b[0m \u001b[0;34m\"Agent B\"\u001b[0m\u001b[0;34m)\u001b[0m\u001b[0;34m\u001b[0m\u001b[0;34m\u001b[0m\u001b[0m\n\u001b[0m\u001b[1;32m    127\u001b[0m         \u001b[0mconversation_history\u001b[0m \u001b[0;34m+=\u001b[0m \u001b[0;34mf\"\\n\\nAgent B: {response_b}\"\u001b[0m\u001b[0;34m\u001b[0m\u001b[0;34m\u001b[0m\u001b[0m\n\u001b[1;32m    128\u001b[0m         \u001b[0manswer_b\u001b[0m \u001b[0;34m=\u001b[0m \u001b[0mextract_final_answer\u001b[0m\u001b[0;34m(\u001b[0m\u001b[0mresponse_b\u001b[0m\u001b[0;34m)\u001b[0m\u001b[0;34m\u001b[0m\u001b[0;34m\u001b[0m\u001b[0m\n",
            "\u001b[0;32m/content/drive/MyDrive/agent/socialreasoning/implementation_math.py\u001b[0m in \u001b[0;36mget_llm_response\u001b[0;34m(self, prompt, agent_name)\u001b[0m\n\u001b[1;32m     84\u001b[0m         \u001b[0m실제\u001b[0m \u001b[0m사용\u001b[0m \u001b[0m시에는\u001b[0m \u001b[0m이\u001b[0m \u001b[0m부분을\u001b[0m \u001b[0m사용하는\u001b[0m \u001b[0mLLM의\u001b[0m \u001b[0mAPI로\u001b[0m \u001b[0m교체해야\u001b[0m \u001b[0m합니다\u001b[0m\u001b[0;34m.\u001b[0m\u001b[0;34m\u001b[0m\u001b[0;34m\u001b[0m\u001b[0m\n\u001b[1;32m     85\u001b[0m         \"\"\"\n\u001b[0;32m---> 86\u001b[0;31m         \u001b[0mprompt\u001b[0m\u001b[0;34m+=\u001b[0m \u001b[0;34mf\"{conversation_history}\\n\\n{collaborative_instruction}\\n{agent_name}:\"\u001b[0m\u001b[0;34m\u001b[0m\u001b[0;34m\u001b[0m\u001b[0m\n\u001b[0m\u001b[1;32m     87\u001b[0m         \u001b[0mprint\u001b[0m\u001b[0;34m(\u001b[0m\u001b[0;34mf\"\\033[91m--- Prompt to {self.agent_name} ({self.llm_model}) ---\\033[0m\"\u001b[0m\u001b[0;34m)\u001b[0m\u001b[0;34m\u001b[0m\u001b[0;34m\u001b[0m\u001b[0m\n\u001b[1;32m     88\u001b[0m         \u001b[0mprint\u001b[0m\u001b[0;34m(\u001b[0m\u001b[0;34mf\"\\033[91m{prompt}\\033[0m\"\u001b[0m\u001b[0;34m)\u001b[0m\u001b[0;34m\u001b[0m\u001b[0;34m\u001b[0m\u001b[0m\n",
            "\u001b[0;31mNameError\u001b[0m: name 'conversation_history' is not defined"
          ]
        }
      ]
    },
    {
      "cell_type": "code",
      "source": [],
      "metadata": {
        "id": "FFttSb5mmi0p"
      },
      "execution_count": null,
      "outputs": []
    }
  ]
}